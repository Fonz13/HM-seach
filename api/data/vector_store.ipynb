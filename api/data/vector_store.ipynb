{
 "cells": [
  {
   "cell_type": "code",
   "execution_count": 1,
   "metadata": {},
   "outputs": [
    {
     "name": "stdout",
     "output_type": "stream",
     "text": [
      "Collecting faiss-cpu\n",
      "  Using cached faiss_cpu-1.7.4-cp39-cp39-macosx_11_0_arm64.whl (2.7 MB)\n",
      "Installing collected packages: faiss-cpu\n",
      "Successfully installed faiss-cpu-1.7.4\n"
     ]
    }
   ],
   "source": [
    "#!pip install faiss-cpu"
   ]
  },
  {
   "cell_type": "code",
   "execution_count": 1,
   "metadata": {},
   "outputs": [],
   "source": [
    "import faiss\n",
    "import numpy as np\n",
    "import pandas as pd\n"
   ]
  },
  {
   "cell_type": "markdown",
   "metadata": {},
   "source": [
    "## Create an index"
   ]
  },
  {
   "cell_type": "code",
   "execution_count": 11,
   "metadata": {},
   "outputs": [
    {
     "name": "stdout",
     "output_type": "stream",
     "text": [
      "(104835, 512)\n"
     ]
    }
   ],
   "source": [
    "image_embeddings = np.load(\"image_embeddings.npy\")\n",
    "df = pd.read_csv(\"H&M_items.csv\", dtype = str)\n",
    "df.head()\n",
    "print(image_embeddings.shape)"
   ]
  },
  {
   "cell_type": "code",
   "execution_count": 12,
   "metadata": {},
   "outputs": [
    {
     "data": {
      "text/plain": [
       "[0]"
      ]
     },
     "execution_count": 12,
     "metadata": {},
     "output_type": "execute_result"
    }
   ],
   "source": [
    "list(df[df.article_id.isin(['0108775015'])].index)"
   ]
  },
  {
   "cell_type": "code",
   "execution_count": 37,
   "metadata": {},
   "outputs": [
    {
     "data": {
      "text/plain": [
       "array([  100,     0, 73844, 35177])"
      ]
     },
     "execution_count": 37,
     "metadata": {},
     "output_type": "execute_result"
    }
   ],
   "source": [
    "I[0]"
   ]
  },
  {
   "cell_type": "code",
   "execution_count": 35,
   "metadata": {},
   "outputs": [
    {
     "ename": "ValueError",
     "evalue": "Buffer has wrong number of dimensions (expected 1, got 3)",
     "output_type": "error",
     "traceback": [
      "\u001b[0;31m---------------------------------------------------------------------------\u001b[0m",
      "\u001b[0;31mValueError\u001b[0m                                Traceback (most recent call last)",
      "Cell \u001b[0;32mIn [35], line 1\u001b[0m\n\u001b[0;32m----> 1\u001b[0m df\u001b[38;5;241m.\u001b[39miloc[[I]]\n",
      "File \u001b[0;32m/opt/miniconda3/envs/recommender/lib/python3.9/site-packages/pandas/core/indexing.py:1192\u001b[0m, in \u001b[0;36m_LocationIndexer.__getitem__\u001b[0;34m(self, key)\u001b[0m\n\u001b[1;32m   1190\u001b[0m maybe_callable \u001b[38;5;241m=\u001b[39m com\u001b[38;5;241m.\u001b[39mapply_if_callable(key, \u001b[38;5;28mself\u001b[39m\u001b[38;5;241m.\u001b[39mobj)\n\u001b[1;32m   1191\u001b[0m maybe_callable \u001b[38;5;241m=\u001b[39m \u001b[38;5;28mself\u001b[39m\u001b[38;5;241m.\u001b[39m_check_deprecated_callable_usage(key, maybe_callable)\n\u001b[0;32m-> 1192\u001b[0m \u001b[38;5;28;01mreturn\u001b[39;00m \u001b[38;5;28;43mself\u001b[39;49m\u001b[38;5;241;43m.\u001b[39;49m\u001b[43m_getitem_axis\u001b[49m\u001b[43m(\u001b[49m\u001b[43mmaybe_callable\u001b[49m\u001b[43m,\u001b[49m\u001b[43m \u001b[49m\u001b[43maxis\u001b[49m\u001b[38;5;241;43m=\u001b[39;49m\u001b[43maxis\u001b[49m\u001b[43m)\u001b[49m\n",
      "File \u001b[0;32m/opt/miniconda3/envs/recommender/lib/python3.9/site-packages/pandas/core/indexing.py:1744\u001b[0m, in \u001b[0;36m_iLocIndexer._getitem_axis\u001b[0;34m(self, key, axis)\u001b[0m\n\u001b[1;32m   1742\u001b[0m \u001b[38;5;66;03m# a list of integers\u001b[39;00m\n\u001b[1;32m   1743\u001b[0m \u001b[38;5;28;01melif\u001b[39;00m is_list_like_indexer(key):\n\u001b[0;32m-> 1744\u001b[0m     \u001b[38;5;28;01mreturn\u001b[39;00m \u001b[38;5;28;43mself\u001b[39;49m\u001b[38;5;241;43m.\u001b[39;49m\u001b[43m_get_list_axis\u001b[49m\u001b[43m(\u001b[49m\u001b[43mkey\u001b[49m\u001b[43m,\u001b[49m\u001b[43m \u001b[49m\u001b[43maxis\u001b[49m\u001b[38;5;241;43m=\u001b[39;49m\u001b[43maxis\u001b[49m\u001b[43m)\u001b[49m\n\u001b[1;32m   1746\u001b[0m \u001b[38;5;66;03m# a single integer\u001b[39;00m\n\u001b[1;32m   1747\u001b[0m \u001b[38;5;28;01melse\u001b[39;00m:\n\u001b[1;32m   1748\u001b[0m     key \u001b[38;5;241m=\u001b[39m item_from_zerodim(key)\n",
      "File \u001b[0;32m/opt/miniconda3/envs/recommender/lib/python3.9/site-packages/pandas/core/indexing.py:1715\u001b[0m, in \u001b[0;36m_iLocIndexer._get_list_axis\u001b[0;34m(self, key, axis)\u001b[0m\n\u001b[1;32m   1698\u001b[0m \u001b[38;5;124;03m\"\"\"\u001b[39;00m\n\u001b[1;32m   1699\u001b[0m \u001b[38;5;124;03mReturn Series values by list or array of integers.\u001b[39;00m\n\u001b[1;32m   1700\u001b[0m \n\u001b[0;32m   (...)\u001b[0m\n\u001b[1;32m   1712\u001b[0m \u001b[38;5;124;03m`axis` can only be zero.\u001b[39;00m\n\u001b[1;32m   1713\u001b[0m \u001b[38;5;124;03m\"\"\"\u001b[39;00m\n\u001b[1;32m   1714\u001b[0m \u001b[38;5;28;01mtry\u001b[39;00m:\n\u001b[0;32m-> 1715\u001b[0m     \u001b[38;5;28;01mreturn\u001b[39;00m \u001b[38;5;28;43mself\u001b[39;49m\u001b[38;5;241;43m.\u001b[39;49m\u001b[43mobj\u001b[49m\u001b[38;5;241;43m.\u001b[39;49m\u001b[43m_take_with_is_copy\u001b[49m\u001b[43m(\u001b[49m\u001b[43mkey\u001b[49m\u001b[43m,\u001b[49m\u001b[43m \u001b[49m\u001b[43maxis\u001b[49m\u001b[38;5;241;43m=\u001b[39;49m\u001b[43maxis\u001b[49m\u001b[43m)\u001b[49m\n\u001b[1;32m   1716\u001b[0m \u001b[38;5;28;01mexcept\u001b[39;00m \u001b[38;5;167;01mIndexError\u001b[39;00m \u001b[38;5;28;01mas\u001b[39;00m err:\n\u001b[1;32m   1717\u001b[0m     \u001b[38;5;66;03m# re-raise with different error message, e.g. test_getitem_ndarray_3d\u001b[39;00m\n\u001b[1;32m   1718\u001b[0m     \u001b[38;5;28;01mraise\u001b[39;00m \u001b[38;5;167;01mIndexError\u001b[39;00m(\u001b[38;5;124m\"\u001b[39m\u001b[38;5;124mpositional indexers are out-of-bounds\u001b[39m\u001b[38;5;124m\"\u001b[39m) \u001b[38;5;28;01mfrom\u001b[39;00m \u001b[38;5;21;01merr\u001b[39;00m\n",
      "File \u001b[0;32m/opt/miniconda3/envs/recommender/lib/python3.9/site-packages/pandas/core/generic.py:4147\u001b[0m, in \u001b[0;36mNDFrame._take_with_is_copy\u001b[0;34m(self, indices, axis)\u001b[0m\n\u001b[1;32m   4136\u001b[0m \u001b[38;5;129m@final\u001b[39m\n\u001b[1;32m   4137\u001b[0m \u001b[38;5;28;01mdef\u001b[39;00m \u001b[38;5;21m_take_with_is_copy\u001b[39m(\u001b[38;5;28mself\u001b[39m, indices, axis: Axis \u001b[38;5;241m=\u001b[39m \u001b[38;5;241m0\u001b[39m) \u001b[38;5;241m-\u001b[39m\u001b[38;5;241m>\u001b[39m Self:\n\u001b[1;32m   4138\u001b[0m     \u001b[38;5;124;03m\"\"\"\u001b[39;00m\n\u001b[1;32m   4139\u001b[0m \u001b[38;5;124;03m    Internal version of the `take` method that sets the `_is_copy`\u001b[39;00m\n\u001b[1;32m   4140\u001b[0m \u001b[38;5;124;03m    attribute to keep track of the parent dataframe (using in indexing\u001b[39;00m\n\u001b[0;32m   (...)\u001b[0m\n\u001b[1;32m   4145\u001b[0m \u001b[38;5;124;03m    See the docstring of `take` for full explanation of the parameters.\u001b[39;00m\n\u001b[1;32m   4146\u001b[0m \u001b[38;5;124;03m    \"\"\"\u001b[39;00m\n\u001b[0;32m-> 4147\u001b[0m     result \u001b[38;5;241m=\u001b[39m \u001b[38;5;28;43mself\u001b[39;49m\u001b[38;5;241;43m.\u001b[39;49m\u001b[43mtake\u001b[49m\u001b[43m(\u001b[49m\u001b[43mindices\u001b[49m\u001b[38;5;241;43m=\u001b[39;49m\u001b[43mindices\u001b[49m\u001b[43m,\u001b[49m\u001b[43m \u001b[49m\u001b[43maxis\u001b[49m\u001b[38;5;241;43m=\u001b[39;49m\u001b[43maxis\u001b[49m\u001b[43m)\u001b[49m\n\u001b[1;32m   4148\u001b[0m     \u001b[38;5;66;03m# Maybe set copy if we didn't actually change the index.\u001b[39;00m\n\u001b[1;32m   4149\u001b[0m     \u001b[38;5;28;01mif\u001b[39;00m \u001b[38;5;28mself\u001b[39m\u001b[38;5;241m.\u001b[39mndim \u001b[38;5;241m==\u001b[39m \u001b[38;5;241m2\u001b[39m \u001b[38;5;129;01mand\u001b[39;00m \u001b[38;5;129;01mnot\u001b[39;00m result\u001b[38;5;241m.\u001b[39m_get_axis(axis)\u001b[38;5;241m.\u001b[39mequals(\u001b[38;5;28mself\u001b[39m\u001b[38;5;241m.\u001b[39m_get_axis(axis)):\n",
      "File \u001b[0;32m/opt/miniconda3/envs/recommender/lib/python3.9/site-packages/pandas/core/generic.py:4127\u001b[0m, in \u001b[0;36mNDFrame.take\u001b[0;34m(self, indices, axis, **kwargs)\u001b[0m\n\u001b[1;32m   4122\u001b[0m     \u001b[38;5;66;03m# We can get here with a slice via DataFrame.__getitem__\u001b[39;00m\n\u001b[1;32m   4123\u001b[0m     indices \u001b[38;5;241m=\u001b[39m np\u001b[38;5;241m.\u001b[39marange(\n\u001b[1;32m   4124\u001b[0m         indices\u001b[38;5;241m.\u001b[39mstart, indices\u001b[38;5;241m.\u001b[39mstop, indices\u001b[38;5;241m.\u001b[39mstep, dtype\u001b[38;5;241m=\u001b[39mnp\u001b[38;5;241m.\u001b[39mintp\n\u001b[1;32m   4125\u001b[0m     )\n\u001b[0;32m-> 4127\u001b[0m new_data \u001b[38;5;241m=\u001b[39m \u001b[38;5;28;43mself\u001b[39;49m\u001b[38;5;241;43m.\u001b[39;49m\u001b[43m_mgr\u001b[49m\u001b[38;5;241;43m.\u001b[39;49m\u001b[43mtake\u001b[49m\u001b[43m(\u001b[49m\n\u001b[1;32m   4128\u001b[0m \u001b[43m    \u001b[49m\u001b[43mindices\u001b[49m\u001b[43m,\u001b[49m\n\u001b[1;32m   4129\u001b[0m \u001b[43m    \u001b[49m\u001b[43maxis\u001b[49m\u001b[38;5;241;43m=\u001b[39;49m\u001b[38;5;28;43mself\u001b[39;49m\u001b[38;5;241;43m.\u001b[39;49m\u001b[43m_get_block_manager_axis\u001b[49m\u001b[43m(\u001b[49m\u001b[43maxis\u001b[49m\u001b[43m)\u001b[49m\u001b[43m,\u001b[49m\n\u001b[1;32m   4130\u001b[0m \u001b[43m    \u001b[49m\u001b[43mverify\u001b[49m\u001b[38;5;241;43m=\u001b[39;49m\u001b[38;5;28;43;01mTrue\u001b[39;49;00m\u001b[43m,\u001b[49m\n\u001b[1;32m   4131\u001b[0m \u001b[43m\u001b[49m\u001b[43m)\u001b[49m\n\u001b[1;32m   4132\u001b[0m \u001b[38;5;28;01mreturn\u001b[39;00m \u001b[38;5;28mself\u001b[39m\u001b[38;5;241m.\u001b[39m_constructor_from_mgr(new_data, axes\u001b[38;5;241m=\u001b[39mnew_data\u001b[38;5;241m.\u001b[39maxes)\u001b[38;5;241m.\u001b[39m__finalize__(\n\u001b[1;32m   4133\u001b[0m     \u001b[38;5;28mself\u001b[39m, method\u001b[38;5;241m=\u001b[39m\u001b[38;5;124m\"\u001b[39m\u001b[38;5;124mtake\u001b[39m\u001b[38;5;124m\"\u001b[39m\n\u001b[1;32m   4134\u001b[0m )\n",
      "File \u001b[0;32m/opt/miniconda3/envs/recommender/lib/python3.9/site-packages/pandas/core/internals/managers.py:895\u001b[0m, in \u001b[0;36mBaseBlockManager.take\u001b[0;34m(self, indexer, axis, verify)\u001b[0m\n\u001b[1;32m    892\u001b[0m indexer \u001b[38;5;241m=\u001b[39m maybe_convert_indices(indexer, n, verify\u001b[38;5;241m=\u001b[39mverify)\n\u001b[1;32m    894\u001b[0m new_labels \u001b[38;5;241m=\u001b[39m \u001b[38;5;28mself\u001b[39m\u001b[38;5;241m.\u001b[39maxes[axis]\u001b[38;5;241m.\u001b[39mtake(indexer)\n\u001b[0;32m--> 895\u001b[0m \u001b[38;5;28;01mreturn\u001b[39;00m \u001b[38;5;28;43mself\u001b[39;49m\u001b[38;5;241;43m.\u001b[39;49m\u001b[43mreindex_indexer\u001b[49m\u001b[43m(\u001b[49m\n\u001b[1;32m    896\u001b[0m \u001b[43m    \u001b[49m\u001b[43mnew_axis\u001b[49m\u001b[38;5;241;43m=\u001b[39;49m\u001b[43mnew_labels\u001b[49m\u001b[43m,\u001b[49m\n\u001b[1;32m    897\u001b[0m \u001b[43m    \u001b[49m\u001b[43mindexer\u001b[49m\u001b[38;5;241;43m=\u001b[39;49m\u001b[43mindexer\u001b[49m\u001b[43m,\u001b[49m\n\u001b[1;32m    898\u001b[0m \u001b[43m    \u001b[49m\u001b[43maxis\u001b[49m\u001b[38;5;241;43m=\u001b[39;49m\u001b[43maxis\u001b[49m\u001b[43m,\u001b[49m\n\u001b[1;32m    899\u001b[0m \u001b[43m    \u001b[49m\u001b[43mallow_dups\u001b[49m\u001b[38;5;241;43m=\u001b[39;49m\u001b[38;5;28;43;01mTrue\u001b[39;49;00m\u001b[43m,\u001b[49m\n\u001b[1;32m    900\u001b[0m \u001b[43m    \u001b[49m\u001b[43mcopy\u001b[49m\u001b[38;5;241;43m=\u001b[39;49m\u001b[38;5;28;43;01mNone\u001b[39;49;00m\u001b[43m,\u001b[49m\n\u001b[1;32m    901\u001b[0m \u001b[43m\u001b[49m\u001b[43m)\u001b[49m\n",
      "File \u001b[0;32m/opt/miniconda3/envs/recommender/lib/python3.9/site-packages/pandas/core/internals/managers.py:688\u001b[0m, in \u001b[0;36mBaseBlockManager.reindex_indexer\u001b[0;34m(self, new_axis, indexer, axis, fill_value, allow_dups, copy, only_slice, use_na_proxy)\u001b[0m\n\u001b[1;32m    681\u001b[0m     new_blocks \u001b[38;5;241m=\u001b[39m \u001b[38;5;28mself\u001b[39m\u001b[38;5;241m.\u001b[39m_slice_take_blocks_ax0(\n\u001b[1;32m    682\u001b[0m         indexer,\n\u001b[1;32m    683\u001b[0m         fill_value\u001b[38;5;241m=\u001b[39mfill_value,\n\u001b[1;32m    684\u001b[0m         only_slice\u001b[38;5;241m=\u001b[39monly_slice,\n\u001b[1;32m    685\u001b[0m         use_na_proxy\u001b[38;5;241m=\u001b[39muse_na_proxy,\n\u001b[1;32m    686\u001b[0m     )\n\u001b[1;32m    687\u001b[0m \u001b[38;5;28;01melse\u001b[39;00m:\n\u001b[0;32m--> 688\u001b[0m     new_blocks \u001b[38;5;241m=\u001b[39m [\n\u001b[1;32m    689\u001b[0m         blk\u001b[38;5;241m.\u001b[39mtake_nd(\n\u001b[1;32m    690\u001b[0m             indexer,\n\u001b[1;32m    691\u001b[0m             axis\u001b[38;5;241m=\u001b[39m\u001b[38;5;241m1\u001b[39m,\n\u001b[1;32m    692\u001b[0m             fill_value\u001b[38;5;241m=\u001b[39m(\n\u001b[1;32m    693\u001b[0m                 fill_value \u001b[38;5;28;01mif\u001b[39;00m fill_value \u001b[38;5;129;01mis\u001b[39;00m \u001b[38;5;129;01mnot\u001b[39;00m \u001b[38;5;28;01mNone\u001b[39;00m \u001b[38;5;28;01melse\u001b[39;00m blk\u001b[38;5;241m.\u001b[39mfill_value\n\u001b[1;32m    694\u001b[0m             ),\n\u001b[1;32m    695\u001b[0m         )\n\u001b[1;32m    696\u001b[0m         \u001b[38;5;28;01mfor\u001b[39;00m blk \u001b[38;5;129;01min\u001b[39;00m \u001b[38;5;28mself\u001b[39m\u001b[38;5;241m.\u001b[39mblocks\n\u001b[1;32m    697\u001b[0m     ]\n\u001b[1;32m    699\u001b[0m new_axes \u001b[38;5;241m=\u001b[39m \u001b[38;5;28mlist\u001b[39m(\u001b[38;5;28mself\u001b[39m\u001b[38;5;241m.\u001b[39maxes)\n\u001b[1;32m    700\u001b[0m new_axes[axis] \u001b[38;5;241m=\u001b[39m new_axis\n",
      "File \u001b[0;32m/opt/miniconda3/envs/recommender/lib/python3.9/site-packages/pandas/core/internals/managers.py:689\u001b[0m, in \u001b[0;36m<listcomp>\u001b[0;34m(.0)\u001b[0m\n\u001b[1;32m    681\u001b[0m     new_blocks \u001b[38;5;241m=\u001b[39m \u001b[38;5;28mself\u001b[39m\u001b[38;5;241m.\u001b[39m_slice_take_blocks_ax0(\n\u001b[1;32m    682\u001b[0m         indexer,\n\u001b[1;32m    683\u001b[0m         fill_value\u001b[38;5;241m=\u001b[39mfill_value,\n\u001b[1;32m    684\u001b[0m         only_slice\u001b[38;5;241m=\u001b[39monly_slice,\n\u001b[1;32m    685\u001b[0m         use_na_proxy\u001b[38;5;241m=\u001b[39muse_na_proxy,\n\u001b[1;32m    686\u001b[0m     )\n\u001b[1;32m    687\u001b[0m \u001b[38;5;28;01melse\u001b[39;00m:\n\u001b[1;32m    688\u001b[0m     new_blocks \u001b[38;5;241m=\u001b[39m [\n\u001b[0;32m--> 689\u001b[0m         \u001b[43mblk\u001b[49m\u001b[38;5;241;43m.\u001b[39;49m\u001b[43mtake_nd\u001b[49m\u001b[43m(\u001b[49m\n\u001b[1;32m    690\u001b[0m \u001b[43m            \u001b[49m\u001b[43mindexer\u001b[49m\u001b[43m,\u001b[49m\n\u001b[1;32m    691\u001b[0m \u001b[43m            \u001b[49m\u001b[43maxis\u001b[49m\u001b[38;5;241;43m=\u001b[39;49m\u001b[38;5;241;43m1\u001b[39;49m\u001b[43m,\u001b[49m\n\u001b[1;32m    692\u001b[0m \u001b[43m            \u001b[49m\u001b[43mfill_value\u001b[49m\u001b[38;5;241;43m=\u001b[39;49m\u001b[43m(\u001b[49m\n\u001b[1;32m    693\u001b[0m \u001b[43m                \u001b[49m\u001b[43mfill_value\u001b[49m\u001b[43m \u001b[49m\u001b[38;5;28;43;01mif\u001b[39;49;00m\u001b[43m \u001b[49m\u001b[43mfill_value\u001b[49m\u001b[43m \u001b[49m\u001b[38;5;129;43;01mis\u001b[39;49;00m\u001b[43m \u001b[49m\u001b[38;5;129;43;01mnot\u001b[39;49;00m\u001b[43m \u001b[49m\u001b[38;5;28;43;01mNone\u001b[39;49;00m\u001b[43m \u001b[49m\u001b[38;5;28;43;01melse\u001b[39;49;00m\u001b[43m \u001b[49m\u001b[43mblk\u001b[49m\u001b[38;5;241;43m.\u001b[39;49m\u001b[43mfill_value\u001b[49m\n\u001b[1;32m    694\u001b[0m \u001b[43m            \u001b[49m\u001b[43m)\u001b[49m\u001b[43m,\u001b[49m\n\u001b[1;32m    695\u001b[0m \u001b[43m        \u001b[49m\u001b[43m)\u001b[49m\n\u001b[1;32m    696\u001b[0m         \u001b[38;5;28;01mfor\u001b[39;00m blk \u001b[38;5;129;01min\u001b[39;00m \u001b[38;5;28mself\u001b[39m\u001b[38;5;241m.\u001b[39mblocks\n\u001b[1;32m    697\u001b[0m     ]\n\u001b[1;32m    699\u001b[0m new_axes \u001b[38;5;241m=\u001b[39m \u001b[38;5;28mlist\u001b[39m(\u001b[38;5;28mself\u001b[39m\u001b[38;5;241m.\u001b[39maxes)\n\u001b[1;32m    700\u001b[0m new_axes[axis] \u001b[38;5;241m=\u001b[39m new_axis\n",
      "File \u001b[0;32m/opt/miniconda3/envs/recommender/lib/python3.9/site-packages/pandas/core/internals/blocks.py:1307\u001b[0m, in \u001b[0;36mBlock.take_nd\u001b[0;34m(self, indexer, axis, new_mgr_locs, fill_value)\u001b[0m\n\u001b[1;32m   1304\u001b[0m     allow_fill \u001b[38;5;241m=\u001b[39m \u001b[38;5;28;01mTrue\u001b[39;00m\n\u001b[1;32m   1306\u001b[0m \u001b[38;5;66;03m# Note: algos.take_nd has upcast logic similar to coerce_to_target_dtype\u001b[39;00m\n\u001b[0;32m-> 1307\u001b[0m new_values \u001b[38;5;241m=\u001b[39m \u001b[43malgos\u001b[49m\u001b[38;5;241;43m.\u001b[39;49m\u001b[43mtake_nd\u001b[49m\u001b[43m(\u001b[49m\n\u001b[1;32m   1308\u001b[0m \u001b[43m    \u001b[49m\u001b[43mvalues\u001b[49m\u001b[43m,\u001b[49m\u001b[43m \u001b[49m\u001b[43mindexer\u001b[49m\u001b[43m,\u001b[49m\u001b[43m \u001b[49m\u001b[43maxis\u001b[49m\u001b[38;5;241;43m=\u001b[39;49m\u001b[43maxis\u001b[49m\u001b[43m,\u001b[49m\u001b[43m \u001b[49m\u001b[43mallow_fill\u001b[49m\u001b[38;5;241;43m=\u001b[39;49m\u001b[43mallow_fill\u001b[49m\u001b[43m,\u001b[49m\u001b[43m \u001b[49m\u001b[43mfill_value\u001b[49m\u001b[38;5;241;43m=\u001b[39;49m\u001b[43mfill_value\u001b[49m\n\u001b[1;32m   1309\u001b[0m \u001b[43m\u001b[49m\u001b[43m)\u001b[49m\n\u001b[1;32m   1311\u001b[0m \u001b[38;5;66;03m# Called from three places in managers, all of which satisfy\u001b[39;00m\n\u001b[1;32m   1312\u001b[0m \u001b[38;5;66;03m#  these assertions\u001b[39;00m\n\u001b[1;32m   1313\u001b[0m \u001b[38;5;28;01mif\u001b[39;00m \u001b[38;5;28misinstance\u001b[39m(\u001b[38;5;28mself\u001b[39m, ExtensionBlock):\n\u001b[1;32m   1314\u001b[0m     \u001b[38;5;66;03m# NB: in this case, the 'axis' kwarg will be ignored in the\u001b[39;00m\n\u001b[1;32m   1315\u001b[0m     \u001b[38;5;66;03m#  algos.take_nd call above.\u001b[39;00m\n",
      "File \u001b[0;32m/opt/miniconda3/envs/recommender/lib/python3.9/site-packages/pandas/core/array_algos/take.py:117\u001b[0m, in \u001b[0;36mtake_nd\u001b[0;34m(arr, indexer, axis, fill_value, allow_fill)\u001b[0m\n\u001b[1;32m    114\u001b[0m     \u001b[38;5;28;01mreturn\u001b[39;00m arr\u001b[38;5;241m.\u001b[39mtake(indexer, fill_value\u001b[38;5;241m=\u001b[39mfill_value, allow_fill\u001b[38;5;241m=\u001b[39mallow_fill)\n\u001b[1;32m    116\u001b[0m arr \u001b[38;5;241m=\u001b[39m np\u001b[38;5;241m.\u001b[39masarray(arr)\n\u001b[0;32m--> 117\u001b[0m \u001b[38;5;28;01mreturn\u001b[39;00m \u001b[43m_take_nd_ndarray\u001b[49m\u001b[43m(\u001b[49m\u001b[43marr\u001b[49m\u001b[43m,\u001b[49m\u001b[43m \u001b[49m\u001b[43mindexer\u001b[49m\u001b[43m,\u001b[49m\u001b[43m \u001b[49m\u001b[43maxis\u001b[49m\u001b[43m,\u001b[49m\u001b[43m \u001b[49m\u001b[43mfill_value\u001b[49m\u001b[43m,\u001b[49m\u001b[43m \u001b[49m\u001b[43mallow_fill\u001b[49m\u001b[43m)\u001b[49m\n",
      "File \u001b[0;32m/opt/miniconda3/envs/recommender/lib/python3.9/site-packages/pandas/core/array_algos/take.py:162\u001b[0m, in \u001b[0;36m_take_nd_ndarray\u001b[0;34m(arr, indexer, axis, fill_value, allow_fill)\u001b[0m\n\u001b[1;32m    157\u001b[0m     out \u001b[38;5;241m=\u001b[39m np\u001b[38;5;241m.\u001b[39mempty(out_shape, dtype\u001b[38;5;241m=\u001b[39mdtype)\n\u001b[1;32m    159\u001b[0m func \u001b[38;5;241m=\u001b[39m _get_take_nd_function(\n\u001b[1;32m    160\u001b[0m     arr\u001b[38;5;241m.\u001b[39mndim, arr\u001b[38;5;241m.\u001b[39mdtype, out\u001b[38;5;241m.\u001b[39mdtype, axis\u001b[38;5;241m=\u001b[39maxis, mask_info\u001b[38;5;241m=\u001b[39mmask_info\n\u001b[1;32m    161\u001b[0m )\n\u001b[0;32m--> 162\u001b[0m \u001b[43mfunc\u001b[49m\u001b[43m(\u001b[49m\u001b[43marr\u001b[49m\u001b[43m,\u001b[49m\u001b[43m \u001b[49m\u001b[43mindexer\u001b[49m\u001b[43m,\u001b[49m\u001b[43m \u001b[49m\u001b[43mout\u001b[49m\u001b[43m,\u001b[49m\u001b[43m \u001b[49m\u001b[43mfill_value\u001b[49m\u001b[43m)\u001b[49m\n\u001b[1;32m    164\u001b[0m \u001b[38;5;28;01mif\u001b[39;00m flip_order:\n\u001b[1;32m    165\u001b[0m     out \u001b[38;5;241m=\u001b[39m out\u001b[38;5;241m.\u001b[39mT\n",
      "File \u001b[0;32mpandas/_libs/algos_take_helper.pxi:2108\u001b[0m, in \u001b[0;36mpandas._libs.algos.take_2d_axis1_object_object\u001b[0;34m()\u001b[0m\n",
      "\u001b[0;31mValueError\u001b[0m: Buffer has wrong number of dimensions (expected 1, got 3)"
     ]
    }
   ],
   "source": [
    "df.iloc[I]"
   ]
  },
  {
   "cell_type": "code",
   "execution_count": 14,
   "metadata": {},
   "outputs": [],
   "source": [
    "d=512\n",
    "index = faiss.IndexFlatIP(d)\n",
    "index.add(image_embeddings.astype('float32'))"
   ]
  },
  {
   "cell_type": "code",
   "execution_count": 15,
   "metadata": {},
   "outputs": [],
   "source": [
    "# Save the index to a file\n",
    "faiss.write_index(index, \"index.faiss\")"
   ]
  },
  {
   "cell_type": "markdown",
   "metadata": {},
   "source": [
    "## Search index"
   ]
  },
  {
   "cell_type": "code",
   "execution_count": 16,
   "metadata": {},
   "outputs": [
    {
     "data": {
      "text/plain": [
       "array([[  100,     0, 73844, 35177]])"
      ]
     },
     "execution_count": 16,
     "metadata": {},
     "output_type": "execute_result"
    }
   ],
   "source": [
    "# Perform a search\n",
    "k = 4  # number of nearest neighbors\n",
    "#either IDSelectorBatch, or IDSelectorArray for filtered search\n",
    "D, I = index.search(image_embeddings[100].reshape((1,512)).astype('float32'),\n",
    "                    k,\n",
    "                    params=faiss.SearchParameters(sel = faiss.IDSelectorBatch([0, 35177,73844, 100,1001,1230,122]))\n",
    "                    )\n",
    "I"
   ]
  },
  {
   "cell_type": "code",
   "execution_count": 20,
   "metadata": {},
   "outputs": [
    {
     "name": "stdout",
     "output_type": "stream",
     "text": [
      "[[ 1.93273854e-02 -9.37842950e-02 -7.37950057e-02  1.17455442e-04\n",
      "  -3.50538045e-02 -2.61178277e-02 -5.01587167e-02 -5.40749682e-03\n",
      "  -1.13040013e-02  1.61023568e-02  5.04050665e-02  1.68056821e-03\n",
      "  -5.08043915e-02 -2.24936549e-02 -3.68862040e-02  3.80077250e-02\n",
      "  -4.65479232e-02 -2.66675837e-02  7.58600831e-02 -6.38416223e-03\n",
      "  -6.32607862e-02  4.59217606e-03 -3.52157988e-02  5.32379970e-02\n",
      "   1.07020428e-02 -2.72748861e-02  5.22757210e-02 -4.37464612e-03\n",
      "  -1.16495427e-03 -3.11148483e-02  1.19050685e-02  2.80885468e-03\n",
      "  -1.94660258e-02 -1.56171657e-02  1.91521528e-03  5.07290289e-02\n",
      "   1.17237596e-02  7.01037282e-03  2.44581886e-03  1.19407736e-02\n",
      "  -1.58118736e-02  1.68048162e-02  5.22434562e-02  3.88998725e-03\n",
      "  -1.57615654e-02  8.46302428e-04  7.16961734e-03  4.13147025e-02\n",
      "  -4.19461392e-02  1.46266809e-02 -1.15152262e-02 -1.06423534e-02\n",
      "  -8.55518691e-03 -3.80785614e-02  1.57510974e-02  4.26360145e-02\n",
      "  -1.34986630e-02  1.16961654e-02 -4.14402373e-02  1.91165917e-02\n",
      "  -2.68566553e-02 -1.08478842e-02  6.96345717e-02 -1.89619660e-02\n",
      "  -8.22885148e-03  1.05373561e-02 -2.88724084e-03 -2.69791167e-02\n",
      "   3.60560305e-02  9.83592682e-03 -3.23924534e-02  2.96634412e-03\n",
      "   4.27132249e-02 -4.04532366e-02 -3.02842185e-02 -8.51194039e-02\n",
      "   1.04114093e-01  4.28687334e-02  6.03761990e-03 -1.28270332e-02\n",
      "  -7.86566809e-02 -1.91090424e-02 -4.00462262e-02 -4.50583808e-02\n",
      "  -8.21604580e-03 -2.30772309e-02  2.15329090e-03  8.65853671e-03\n",
      "  -2.72150096e-02 -4.24179025e-02 -8.03910382e-03 -1.13111816e-03\n",
      "  -7.44324103e-02 -4.74005908e-04 -2.51991395e-02 -5.42930909e-04\n",
      "   6.63856491e-02  2.25916840e-02  1.11865001e-02 -1.08619090e-02\n",
      "  -4.14914303e-02  8.04385915e-03  2.11820975e-02  3.44283767e-02\n",
      "   3.09103131e-02 -4.29833494e-02  2.88322084e-02 -1.66291408e-02\n",
      "  -2.04457752e-02 -5.69422962e-03 -7.13804066e-02 -4.80110347e-02\n",
      "   5.25820209e-03  1.63886100e-02  1.50094451e-02  3.98417143e-03\n",
      "   5.46988519e-03 -1.44044161e-02  1.57417469e-02  1.94033310e-02\n",
      "  -1.69997811e-02  3.56991813e-02 -3.69690210e-02  6.78198785e-03\n",
      "   1.10627152e-02 -2.58037765e-02  1.00618461e-02  3.66422377e-04\n",
      "  -1.60812978e-02 -2.76820958e-02  3.16944942e-02  9.52769537e-03\n",
      "   5.37046418e-02  1.39179109e-02 -3.76296192e-02  2.45989710e-02\n",
      "  -4.93805157e-03  2.76329312e-02  2.83283778e-02 -2.60045007e-02\n",
      "  -1.73429642e-02 -1.72573589e-02 -1.58723667e-02  3.61345373e-02\n",
      "   4.37598750e-02  9.11241770e-02 -2.83170659e-02 -4.60857898e-02\n",
      "  -3.55428383e-02  2.16496568e-02 -4.76273103e-03  3.49347666e-02\n",
      "   3.71939361e-01 -5.68512781e-03 -1.83234904e-02 -3.23029310e-02\n",
      "  -1.17868539e-02  1.26549527e-02 -8.42663983e-04  1.62780955e-02\n",
      "  -3.66791300e-02 -1.32369110e-02 -3.38153504e-02 -3.88550834e-05\n",
      "  -9.72640608e-03  1.30759776e-01  6.12766575e-03 -5.32346785e-05\n",
      "  -5.71207097e-03  5.71971014e-02  3.59508060e-02  2.76163910e-02\n",
      "  -6.53983792e-03 -5.10336496e-02  4.40271758e-03 -1.00357547e-01\n",
      "   9.55619011e-03 -2.40740981e-02 -1.04819015e-01  1.01336064e-02\n",
      "  -2.02030111e-02 -3.04902717e-02 -8.66949372e-03  7.45391548e-02\n",
      "  -4.33798619e-02  8.15754011e-03  1.20186664e-01  2.39388142e-02\n",
      "  -3.88106480e-02 -5.41444980e-02 -1.16915712e-02  3.65174673e-02\n",
      "  -2.41005514e-02 -5.33531560e-03 -1.42760407e-02  1.95006263e-02\n",
      "   1.86538436e-02 -2.81184576e-02  2.34832354e-02  1.76209081e-02\n",
      "   6.14823103e-02  1.98402237e-02  5.52337393e-02 -9.69592482e-03\n",
      "  -2.47225370e-02  2.24372596e-02  3.82234864e-02  6.38323976e-03\n",
      "  -2.39443779e-02  2.67671905e-02  2.30544247e-02 -8.33455771e-02\n",
      "   5.66913141e-03 -2.38410607e-02 -1.00888442e-02  2.69439332e-02\n",
      "  -8.87102168e-03 -6.85244275e-04  9.45347641e-03  3.74372788e-02\n",
      "  -6.29410474e-03  1.77493356e-02 -1.77425016e-02  4.73497249e-02\n",
      "   2.76498608e-02  1.67441070e-02 -4.57676798e-02 -4.02878560e-02\n",
      "  -9.96009167e-03 -1.19030317e-02  1.47420149e-02 -4.02028561e-02\n",
      "   6.46597594e-02  4.96106921e-03 -1.89928692e-02 -3.38112190e-02\n",
      "  -7.98604488e-02 -3.74233862e-03 -6.33326452e-03 -4.05395590e-02\n",
      "   5.95881082e-02  6.41032457e-02 -3.56421224e-03  3.51883918e-02\n",
      "   4.59361263e-02 -5.44699468e-02 -2.09792536e-02 -2.07272246e-02\n",
      "  -1.99324009e-03 -1.38055505e-02  2.97325496e-02 -1.95617098e-02\n",
      "   7.12060258e-02 -3.24335471e-02 -6.57913387e-02  2.74018641e-03\n",
      "   2.44830195e-02  1.43838895e-03  5.97066619e-02 -1.74048766e-02\n",
      "   2.12467853e-02 -2.14156657e-02 -2.57944297e-02  5.66069521e-02\n",
      "   3.49016413e-02  8.79828632e-03 -1.63181648e-02 -4.57208109e-04\n",
      "  -3.53664644e-02 -1.15295202e-02 -8.95909518e-02 -5.28897084e-02\n",
      "   4.10152152e-02 -1.59272249e-03 -3.40286605e-02 -8.93585850e-04\n",
      "   3.06669548e-02  1.91149954e-02 -6.72755181e-04  8.03183913e-02\n",
      "  -2.48451252e-02 -2.76692584e-02 -1.59327488e-03  3.35161127e-02\n",
      "   1.12628276e-02  1.90242957e-02  6.36361241e-02  1.91987231e-02\n",
      "  -2.76235864e-02 -5.97747937e-02  4.75401431e-02 -3.69638056e-02\n",
      "  -1.31357769e-02  4.73443530e-02 -4.47411276e-02 -5.80322444e-02\n",
      "   1.72168724e-02 -2.14262716e-02  7.57235056e-03  1.20592397e-02\n",
      "   6.67757317e-02 -1.01673659e-02 -2.20659841e-02  1.41640706e-02\n",
      "  -3.64388414e-02  3.11996993e-02 -9.30817053e-03 -3.70598286e-01\n",
      "  -5.14016747e-02  2.89916787e-02 -3.07117011e-02 -3.14463228e-02\n",
      "   2.32778527e-02 -6.98625203e-03  3.30526046e-02 -3.70259658e-02\n",
      "   3.45387608e-02 -1.75902843e-02  4.59517259e-03 -2.06350023e-03\n",
      "   3.95493582e-02  1.19392655e-03 -1.26574505e-02  3.59703600e-02\n",
      "  -1.17241234e-01 -2.54269559e-02 -3.47933522e-03 -1.02396738e-02\n",
      "  -1.29001047e-02 -4.91661727e-02 -2.81435642e-02 -4.25434187e-02\n",
      "  -2.61513125e-02 -3.61383110e-02  1.87001582e-02 -4.74896207e-02\n",
      "   1.50628500e-02 -2.22671498e-02 -7.58966357e-02 -6.17946219e-03\n",
      "  -5.36235236e-03 -1.77333038e-02  2.01247614e-02 -1.47058275e-02\n",
      "  -2.45027617e-02 -3.88776287e-02  2.26313174e-02  2.59421933e-02\n",
      "  -1.09549552e-01 -1.11501195e-01  9.50694382e-02  6.12024125e-03\n",
      "   8.49669706e-03  2.44779941e-02 -6.48838058e-02  1.62904002e-02\n",
      "  -3.32543030e-02  3.69907692e-02  1.01385796e-02 -7.12331012e-03\n",
      "  -1.75036658e-02 -2.70817988e-02  8.70430470e-03  1.28809717e-02\n",
      "  -5.76580577e-02 -6.94909226e-03 -2.72163972e-02  4.68306355e-02\n",
      "   4.22781333e-02 -4.03334312e-02  1.67202502e-02 -2.61214729e-02\n",
      "   2.52916124e-02  1.80540662e-02 -1.31175909e-02  1.14709372e-02\n",
      "   3.79592068e-02 -4.36871052e-02  5.61078675e-02 -2.49489564e-02\n",
      "  -2.44193040e-02  4.10485081e-03 -5.64100593e-02 -1.17628817e-02\n",
      "  -6.94953278e-03  4.91724610e-02 -1.63318869e-02 -5.16551360e-02\n",
      "   4.86493446e-02  1.12933433e-02 -3.02038230e-02 -3.29817422e-02\n",
      "   3.52933668e-02 -1.54461442e-02 -5.76452278e-02  5.56078227e-03\n",
      "  -6.60263523e-02 -3.00490428e-02  2.95497254e-02 -1.11276666e-02\n",
      "  -8.83413199e-03  1.20254382e-02 -2.17500180e-02  1.99169312e-02\n",
      "   9.72095039e-03 -3.45854685e-02 -9.49265156e-03  5.44798858e-02\n",
      "   1.80500597e-02  4.47089560e-02  2.05928963e-02 -1.99816637e-02\n",
      "   5.70810810e-02  1.13659622e-02  4.42609377e-02  7.91295990e-03\n",
      "  -6.89244866e-02  5.17024249e-02 -2.53711995e-02  3.02344449e-02\n",
      "   6.63455296e-03  4.39568758e-02 -3.25047746e-02 -9.97689553e-03\n",
      "   7.82564282e-02  3.63167785e-02  5.01426570e-02  6.41663326e-03\n",
      "   3.85722518e-02  1.80620067e-02  7.03973556e-03  1.72502056e-01\n",
      "  -6.45802990e-02  7.24073127e-02  3.74494083e-02  6.42424151e-02\n",
      "   6.68179290e-03 -2.10138061e-03 -1.86524745e-02  8.97222012e-03\n",
      "  -6.10812977e-02 -3.91452499e-02  3.39212790e-02 -4.35292609e-02\n",
      "   3.99895158e-04 -2.38746312e-02 -6.53821677e-02  9.21667833e-03\n",
      "   4.78750914e-02  5.41743301e-02 -1.17607252e-03  2.44674329e-02\n",
      "   6.22404926e-03  1.22038824e-02 -3.16164233e-02 -3.04437447e-02\n",
      "  -3.64459530e-02  1.13305002e-02 -2.93759052e-02  3.47854011e-02\n",
      "  -2.74498295e-02 -4.96978499e-02 -4.37235087e-02  8.39005690e-03\n",
      "  -2.80941091e-02 -9.39824339e-03  2.25586295e-02  7.55395293e-02\n",
      "   3.64996772e-03  3.09721548e-02  2.63313367e-03 -4.49096188e-02\n",
      "  -3.79092246e-02  1.03608649e-02  5.95001318e-03 -2.97317915e-02\n",
      "   2.50246897e-02  7.67052779e-03  3.58146406e-03  1.34803762e-03\n",
      "   2.51025497e-03 -2.56705936e-02 -8.18958879e-03  1.48007914e-03\n",
      "   1.01932487e-03 -1.55870579e-02 -1.57853439e-02  1.64423510e-02\n",
      "  -9.86712500e-02 -2.69880984e-02 -1.45157099e-01  5.37241213e-02\n",
      "   2.41223481e-02  3.81739400e-02 -2.07489897e-02  5.95788211e-02\n",
      "  -2.00652331e-02  2.99474616e-02 -6.01455085e-02  1.84656903e-02\n",
      "  -1.14197563e-02  4.62603159e-02  3.91386114e-02 -9.43915397e-02\n",
      "  -6.38435176e-03 -1.51265757e-02  3.46103385e-02  6.14833236e-02\n",
      "  -2.81945542e-02 -1.32479984e-02  3.83433960e-02  1.53775476e-02]]\n",
      "(1, 512)\n"
     ]
    }
   ],
   "source": [
    "embeddings = index.reconstruct_batch([100]) # get vector at index 100\n",
    "print(embeddings)\n",
    "print(embeddings.shape)"
   ]
  },
  {
   "cell_type": "code",
   "execution_count": 31,
   "metadata": {},
   "outputs": [
    {
     "data": {
      "text/plain": [
       "numpy.ndarray"
      ]
     },
     "execution_count": 31,
     "metadata": {},
     "output_type": "execute_result"
    }
   ],
   "source": [
    "n = np.mean(image_embeddings, axis=0).reshape((1,512))\n",
    "\n",
    "n = n/np.linalg.norm(n, ord=2, axis=-1, keepdims=True)\n",
    "n.shape\n",
    "type(n.astype('float32'))"
   ]
  },
  {
   "cell_type": "code",
   "execution_count": 20,
   "metadata": {},
   "outputs": [],
   "source": [
    "def get_embeddings_by_id(ids:list):\n",
    "    \"\"\"\n",
    "    When two or more items are chosen, their ids are passed to this function to get their embeddings\n",
    "    \n",
    "        params: ids: list of ids\n",
    "    \n",
    "        returns: embeddings of the ids\n",
    "    \"\"\"\n",
    "    query_string = \" or \".join([f\"article_id=='{id}'\" for id in ids])\n",
    "    \n",
    "    indexes = df.query(query_string).index\n",
    "    embeddings = index.reconstruct_batch(indexes)\n",
    "    \n",
    "    return embeddings"
   ]
  },
  {
   "cell_type": "code",
   "execution_count": 21,
   "metadata": {},
   "outputs": [
    {
     "data": {
      "text/plain": [
       "array([[ 0.05774637,  0.03786624,  0.03480565, ..., -0.01809942,\n",
       "        -0.00956022, -0.04715981],\n",
       "       [ 0.02655817,  0.0578466 ,  0.02785705, ...,  0.01810479,\n",
       "        -0.01383074, -0.00934319]], dtype=float32)"
      ]
     },
     "execution_count": 21,
     "metadata": {},
     "output_type": "execute_result"
    }
   ],
   "source": [
    "ids = [\"0429322001\", \"0429322007\"]\n",
    "\n",
    "get_embeddings_by_id(ids)"
   ]
  },
  {
   "cell_type": "markdown",
   "metadata": {},
   "source": [
    "## Filter items"
   ]
  },
  {
   "cell_type": "code",
   "execution_count": 22,
   "metadata": {},
   "outputs": [],
   "source": [
    "def filter_items(filters:list):\n",
    "    \"\"\"\n",
    "    params:\n",
    "        filters: list of tuples of the form (column, value)\n",
    "    \"\"\"\n",
    "    query_string = \" and \".join([f\"{filter[0]}=='{filter[1]}'\" for filter in filters])\n",
    "\n",
    "    print(query_string)\n",
    "    return df.query(query_string)"
   ]
  },
  {
   "cell_type": "code",
   "execution_count": 24,
   "metadata": {},
   "outputs": [
    {
     "name": "stdout",
     "output_type": "stream",
     "text": [
      "index_group_name=='Ladieswear' and product_group_name=='Nightwear' and color=='Black'\n"
     ]
    },
    {
     "data": {
      "text/html": [
       "<div>\n",
       "<style scoped>\n",
       "    .dataframe tbody tr th:only-of-type {\n",
       "        vertical-align: middle;\n",
       "    }\n",
       "\n",
       "    .dataframe tbody tr th {\n",
       "        vertical-align: top;\n",
       "    }\n",
       "\n",
       "    .dataframe thead th {\n",
       "        text-align: right;\n",
       "    }\n",
       "</style>\n",
       "<table border=\"1\" class=\"dataframe\">\n",
       "  <thead>\n",
       "    <tr style=\"text-align: right;\">\n",
       "      <th></th>\n",
       "      <th>article_id</th>\n",
       "      <th>prod_name</th>\n",
       "      <th>product_type_name</th>\n",
       "      <th>product_group_name</th>\n",
       "      <th>color</th>\n",
       "      <th>index_group_name</th>\n",
       "      <th>image_src</th>\n",
       "      <th>href</th>\n",
       "    </tr>\n",
       "  </thead>\n",
       "  <tbody>\n",
       "    <tr>\n",
       "      <th>2747</th>\n",
       "      <td>0429322001</td>\n",
       "      <td>Charlotte SP N-Slip Andes</td>\n",
       "      <td>Night gown</td>\n",
       "      <td>Nightwear</td>\n",
       "      <td>Black</td>\n",
       "      <td>Ladieswear</td>\n",
       "      <td>https://d11p8vtjlacpl4.cloudfront.net/kaggle-h...</td>\n",
       "      <td>https://www2.hm.com/en_gb/productpage.04293220...</td>\n",
       "    </tr>\n",
       "    <tr>\n",
       "      <th>2749</th>\n",
       "      <td>0429322007</td>\n",
       "      <td>Charlotte SP N-Slip Andes</td>\n",
       "      <td>Night gown</td>\n",
       "      <td>Nightwear</td>\n",
       "      <td>Black</td>\n",
       "      <td>Ladieswear</td>\n",
       "      <td>https://d11p8vtjlacpl4.cloudfront.net/kaggle-h...</td>\n",
       "      <td>https://www2.hm.com/en_gb/productpage.04293220...</td>\n",
       "    </tr>\n",
       "    <tr>\n",
       "      <th>6143</th>\n",
       "      <td>0503729006</td>\n",
       "      <td>India PJ (W)</td>\n",
       "      <td>Pyjama set</td>\n",
       "      <td>Nightwear</td>\n",
       "      <td>Black</td>\n",
       "      <td>Ladieswear</td>\n",
       "      <td>https://d11p8vtjlacpl4.cloudfront.net/kaggle-h...</td>\n",
       "      <td>https://www2.hm.com/en_gb/productpage.05037290...</td>\n",
       "    </tr>\n",
       "    <tr>\n",
       "      <th>6439</th>\n",
       "      <td>0506452003</td>\n",
       "      <td>Sunday SL Set</td>\n",
       "      <td>Pyjama set</td>\n",
       "      <td>Nightwear</td>\n",
       "      <td>Black</td>\n",
       "      <td>Ladieswear</td>\n",
       "      <td>https://d11p8vtjlacpl4.cloudfront.net/kaggle-h...</td>\n",
       "      <td>https://www2.hm.com/en_gb/productpage.05064520...</td>\n",
       "    </tr>\n",
       "    <tr>\n",
       "      <th>6592</th>\n",
       "      <td>0508156028</td>\n",
       "      <td>Donna N-slip Print (J)</td>\n",
       "      <td>Night gown</td>\n",
       "      <td>Nightwear</td>\n",
       "      <td>Black</td>\n",
       "      <td>Ladieswear</td>\n",
       "      <td>https://d11p8vtjlacpl4.cloudfront.net/kaggle-h...</td>\n",
       "      <td>https://www2.hm.com/en_gb/productpage.05081560...</td>\n",
       "    </tr>\n",
       "    <tr>\n",
       "      <th>...</th>\n",
       "      <td>...</td>\n",
       "      <td>...</td>\n",
       "      <td>...</td>\n",
       "      <td>...</td>\n",
       "      <td>...</td>\n",
       "      <td>...</td>\n",
       "      <td>...</td>\n",
       "      <td>...</td>\n",
       "    </tr>\n",
       "    <tr>\n",
       "      <th>91938</th>\n",
       "      <td>0854154002</td>\n",
       "      <td>NW LUNA TRS (J)</td>\n",
       "      <td>Pyjama bottom</td>\n",
       "      <td>Nightwear</td>\n",
       "      <td>Black</td>\n",
       "      <td>Ladieswear</td>\n",
       "      <td>https://d11p8vtjlacpl4.cloudfront.net/kaggle-h...</td>\n",
       "      <td>https://www2.hm.com/en_gb/productpage.08541540...</td>\n",
       "    </tr>\n",
       "    <tr>\n",
       "      <th>93365</th>\n",
       "      <td>0860527001</td>\n",
       "      <td>Emily trouser (W)</td>\n",
       "      <td>Pyjama bottom</td>\n",
       "      <td>Nightwear</td>\n",
       "      <td>Black</td>\n",
       "      <td>Ladieswear</td>\n",
       "      <td>https://d11p8vtjlacpl4.cloudfront.net/kaggle-h...</td>\n",
       "      <td>https://www2.hm.com/en_gb/productpage.08605270...</td>\n",
       "    </tr>\n",
       "    <tr>\n",
       "      <th>99428</th>\n",
       "      <td>0888331005</td>\n",
       "      <td>Bonnie SL set (J)</td>\n",
       "      <td>Pyjama set</td>\n",
       "      <td>Nightwear</td>\n",
       "      <td>Black</td>\n",
       "      <td>Ladieswear</td>\n",
       "      <td>https://d11p8vtjlacpl4.cloudfront.net/kaggle-h...</td>\n",
       "      <td>https://www2.hm.com/en_gb/productpage.08883310...</td>\n",
       "    </tr>\n",
       "    <tr>\n",
       "      <th>100033</th>\n",
       "      <td>0891877001</td>\n",
       "      <td>Sara LL PJ (J)</td>\n",
       "      <td>Pyjama set</td>\n",
       "      <td>Nightwear</td>\n",
       "      <td>Black</td>\n",
       "      <td>Ladieswear</td>\n",
       "      <td>https://d11p8vtjlacpl4.cloudfront.net/kaggle-h...</td>\n",
       "      <td>https://www2.hm.com/en_gb/productpage.08918770...</td>\n",
       "    </tr>\n",
       "    <tr>\n",
       "      <th>103348</th>\n",
       "      <td>0918171001</td>\n",
       "      <td>Miley LL Satin PJ  (W)</td>\n",
       "      <td>Pyjama set</td>\n",
       "      <td>Nightwear</td>\n",
       "      <td>Black</td>\n",
       "      <td>Ladieswear</td>\n",
       "      <td>https://d11p8vtjlacpl4.cloudfront.net/kaggle-h...</td>\n",
       "      <td>https://www2.hm.com/en_gb/productpage.09181710...</td>\n",
       "    </tr>\n",
       "  </tbody>\n",
       "</table>\n",
       "<p>86 rows × 8 columns</p>\n",
       "</div>"
      ],
      "text/plain": [
       "        article_id                  prod_name product_type_name  \\\n",
       "2747    0429322001  Charlotte SP N-Slip Andes        Night gown   \n",
       "2749    0429322007  Charlotte SP N-Slip Andes        Night gown   \n",
       "6143    0503729006               India PJ (W)        Pyjama set   \n",
       "6439    0506452003              Sunday SL Set        Pyjama set   \n",
       "6592    0508156028     Donna N-slip Print (J)        Night gown   \n",
       "...            ...                        ...               ...   \n",
       "91938   0854154002            NW LUNA TRS (J)     Pyjama bottom   \n",
       "93365   0860527001          Emily trouser (W)     Pyjama bottom   \n",
       "99428   0888331005          Bonnie SL set (J)        Pyjama set   \n",
       "100033  0891877001             Sara LL PJ (J)        Pyjama set   \n",
       "103348  0918171001     Miley LL Satin PJ  (W)        Pyjama set   \n",
       "\n",
       "       product_group_name  color index_group_name  \\\n",
       "2747            Nightwear  Black       Ladieswear   \n",
       "2749            Nightwear  Black       Ladieswear   \n",
       "6143            Nightwear  Black       Ladieswear   \n",
       "6439            Nightwear  Black       Ladieswear   \n",
       "6592            Nightwear  Black       Ladieswear   \n",
       "...                   ...    ...              ...   \n",
       "91938           Nightwear  Black       Ladieswear   \n",
       "93365           Nightwear  Black       Ladieswear   \n",
       "99428           Nightwear  Black       Ladieswear   \n",
       "100033          Nightwear  Black       Ladieswear   \n",
       "103348          Nightwear  Black       Ladieswear   \n",
       "\n",
       "                                                image_src  \\\n",
       "2747    https://d11p8vtjlacpl4.cloudfront.net/kaggle-h...   \n",
       "2749    https://d11p8vtjlacpl4.cloudfront.net/kaggle-h...   \n",
       "6143    https://d11p8vtjlacpl4.cloudfront.net/kaggle-h...   \n",
       "6439    https://d11p8vtjlacpl4.cloudfront.net/kaggle-h...   \n",
       "6592    https://d11p8vtjlacpl4.cloudfront.net/kaggle-h...   \n",
       "...                                                   ...   \n",
       "91938   https://d11p8vtjlacpl4.cloudfront.net/kaggle-h...   \n",
       "93365   https://d11p8vtjlacpl4.cloudfront.net/kaggle-h...   \n",
       "99428   https://d11p8vtjlacpl4.cloudfront.net/kaggle-h...   \n",
       "100033  https://d11p8vtjlacpl4.cloudfront.net/kaggle-h...   \n",
       "103348  https://d11p8vtjlacpl4.cloudfront.net/kaggle-h...   \n",
       "\n",
       "                                                     href  \n",
       "2747    https://www2.hm.com/en_gb/productpage.04293220...  \n",
       "2749    https://www2.hm.com/en_gb/productpage.04293220...  \n",
       "6143    https://www2.hm.com/en_gb/productpage.05037290...  \n",
       "6439    https://www2.hm.com/en_gb/productpage.05064520...  \n",
       "6592    https://www2.hm.com/en_gb/productpage.05081560...  \n",
       "...                                                   ...  \n",
       "91938   https://www2.hm.com/en_gb/productpage.08541540...  \n",
       "93365   https://www2.hm.com/en_gb/productpage.08605270...  \n",
       "99428   https://www2.hm.com/en_gb/productpage.08883310...  \n",
       "100033  https://www2.hm.com/en_gb/productpage.08918770...  \n",
       "103348  https://www2.hm.com/en_gb/productpage.09181710...  \n",
       "\n",
       "[86 rows x 8 columns]"
      ]
     },
     "execution_count": 24,
     "metadata": {},
     "output_type": "execute_result"
    }
   ],
   "source": [
    "string = [(\"index_group_name\", \"Ladieswear\"),\n",
    "          (\"product_group_name\", \"Nightwear\"),\n",
    "          (\"color\", \"Black\")\n",
    "          ]\n",
    "\n",
    "filter_items(string)"
   ]
  },
  {
   "cell_type": "markdown",
   "metadata": {},
   "source": [
    "### PLANS\n",
    "\n",
    "group product_group_name as category with product_type_name as subcategory\n",
    "\n",
    "group everything as subcategories to index_group_name\n",
    "\n",
    "\n",
    "- index_group_name:\n",
    "    - product_group_name\n",
    "- perceived_colour_master_name\n",
    "\n",
    "\n",
    "index_group_name is in header\n",
    "\n",
    "product_group_name on side\n",
    "perceived_colour_master_name on side as a slidedown\n",
    "product_type_name on each item\n",
    "\n",
    "\n",
    "\n",
    "\n"
   ]
  },
  {
   "cell_type": "code",
   "execution_count": 154,
   "metadata": {},
   "outputs": [],
   "source": [
    "category_structure = {}\n",
    "\n",
    "cateories = {}\n",
    "for i_group_name in pd.unique(df.index_group_name):\n",
    "\n",
    "    sub_cats = {}\n",
    "    for p_group_name in df.query(f\"index_group_name=='{i_group_name}'\")['product_group_name'].unique():\n",
    "        sub_cats.update({p_group_name : df.query(f\"product_group_name=='{p_group_name}'\")['product_type_name'].unique()})\n",
    "    cateories.update({i_group_name : list(sub_cats)})\n",
    "\n",
    "category_structure.update({'Categories': cateories})\n",
    "category_structure.update({'Color': list(df.perceived_colour_master_name.unique())})"
   ]
  },
  {
   "cell_type": "code",
   "execution_count": 155,
   "metadata": {},
   "outputs": [
    {
     "name": "stdout",
     "output_type": "stream",
     "text": [
      "{\n",
      "    \"Categories\": {\n",
      "        \"Ladieswear\": [\n",
      "            \"Garment Upper body\",\n",
      "            \"Underwear\",\n",
      "            \"Socks & Tights\",\n",
      "            \"Garment Lower body\",\n",
      "            \"Accessories\",\n",
      "            \"Items\",\n",
      "            \"Swimwear\",\n",
      "            \"Garment Full body\",\n",
      "            \"Nightwear\",\n",
      "            \"Shoes\",\n",
      "            \"Furniture\"\n",
      "        ],\n",
      "        \"Baby/Children\": [\n",
      "            \"Garment Upper body\",\n",
      "            \"Nightwear\",\n",
      "            \"Garment Lower body\",\n",
      "            \"Underwear\",\n",
      "            \"Garment Full body\",\n",
      "            \"Socks & Tights\",\n",
      "            \"Accessories\",\n",
      "            \"Underwear/nightwear\",\n",
      "            \"Swimwear\",\n",
      "            \"Shoes\",\n",
      "            \"Cosmetic\"\n",
      "        ],\n",
      "        \"Menswear\": [\n",
      "            \"Garment Lower body\",\n",
      "            \"Garment Upper body\",\n",
      "            \"Underwear\",\n",
      "            \"Accessories\",\n",
      "            \"Shoes\",\n",
      "            \"Socks & Tights\",\n",
      "            \"Swimwear\",\n",
      "            \"Nightwear\",\n",
      "            \"Garment Full body\"\n",
      "        ],\n",
      "        \"Sport\": [\n",
      "            \"Garment Upper body\",\n",
      "            \"Garment Lower body\",\n",
      "            \"Accessories\",\n",
      "            \"Socks & Tights\",\n",
      "            \"Underwear\",\n",
      "            \"Swimwear\",\n",
      "            \"Garment Full body\",\n",
      "            \"Shoes\"\n",
      "        ],\n",
      "        \"Divided\": [\n",
      "            \"Socks & Tights\",\n",
      "            \"Shoes\",\n",
      "            \"Garment Lower body\",\n",
      "            \"Garment Upper body\",\n",
      "            \"Garment Full body\",\n",
      "            \"Accessories\",\n",
      "            \"Underwear\",\n",
      "            \"Swimwear\"\n",
      "        ]\n",
      "    },\n",
      "    \"Color\": [\n",
      "        \"Black\",\n",
      "        \"White\",\n",
      "        \"Beige\",\n",
      "        \"Grey\",\n",
      "        \"Blue\",\n",
      "        \"Pink\",\n",
      "        \"Lilac Purple\",\n",
      "        \"Red\",\n",
      "        \"Mole\",\n",
      "        \"Orange\",\n",
      "        \"Metal\",\n",
      "        \"Brown\",\n",
      "        \"Turquoise\",\n",
      "        \"Yellow\",\n",
      "        \"Khaki green\",\n",
      "        \"Green\",\n",
      "        \"undefined\",\n",
      "        \"Unknown\",\n",
      "        \"Yellowish Green\",\n",
      "        \"Bluish Green\"\n",
      "    ]\n",
      "}\n"
     ]
    }
   ],
   "source": [
    "import json\n",
    "\n",
    "json_string = json.dumps(category_structure, indent=4 )  \n",
    "print(json_string)"
   ]
  },
  {
   "cell_type": "code",
   "execution_count": null,
   "metadata": {},
   "outputs": [],
   "source": []
  }
 ],
 "metadata": {
  "kernelspec": {
   "display_name": "recommender",
   "language": "python",
   "name": "python3"
  },
  "language_info": {
   "codemirror_mode": {
    "name": "ipython",
    "version": 3
   },
   "file_extension": ".py",
   "mimetype": "text/x-python",
   "name": "python",
   "nbconvert_exporter": "python",
   "pygments_lexer": "ipython3",
   "version": "3.9.13"
  }
 },
 "nbformat": 4,
 "nbformat_minor": 2
}
