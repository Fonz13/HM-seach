{
 "cells": [
  {
   "cell_type": "code",
   "execution_count": 1,
   "metadata": {},
   "outputs": [
    {
     "name": "stdout",
     "output_type": "stream",
     "text": [
      "Collecting faiss-cpu\n",
      "  Using cached faiss_cpu-1.7.4-cp39-cp39-macosx_11_0_arm64.whl (2.7 MB)\n",
      "Installing collected packages: faiss-cpu\n",
      "Successfully installed faiss-cpu-1.7.4\n"
     ]
    }
   ],
   "source": [
    "#!pip install faiss-cpu"
   ]
  },
  {
   "cell_type": "code",
   "execution_count": 1,
   "metadata": {},
   "outputs": [],
   "source": [
    "import faiss\n",
    "import numpy as np\n",
    "import pandas as pd\n"
   ]
  },
  {
   "cell_type": "markdown",
   "metadata": {},
   "source": [
    "## Create an index"
   ]
  },
  {
   "cell_type": "code",
   "execution_count": 2,
   "metadata": {},
   "outputs": [
    {
     "name": "stdout",
     "output_type": "stream",
     "text": [
      "(104835, 512)\n"
     ]
    }
   ],
   "source": [
    "image_embeddings = np.load(\"image_embeddings.npy\")\n",
    "df = pd.read_csv(\"H&M_items.csv\", dtype = str)\n",
    "df.head()\n",
    "print(image_embeddings.shape)"
   ]
  },
  {
   "cell_type": "code",
   "execution_count": 3,
   "metadata": {},
   "outputs": [
    {
     "data": {
      "text/plain": [
       "[0]"
      ]
     },
     "execution_count": 3,
     "metadata": {},
     "output_type": "execute_result"
    }
   ],
   "source": [
    "list(df[df.article_id.isin(['0108775015'])].index)"
   ]
  },
  {
   "cell_type": "code",
   "execution_count": 5,
   "metadata": {},
   "outputs": [],
   "source": [
    "d=512\n",
    "index = faiss.IndexFlatIP(d)\n",
    "index.add(image_embeddings.astype('float32'))"
   ]
  },
  {
   "cell_type": "code",
   "execution_count": 15,
   "metadata": {},
   "outputs": [],
   "source": [
    "# Save the index to a file\n",
    "faiss.write_index(index, \"index.faiss\")"
   ]
  },
  {
   "cell_type": "code",
   "execution_count": null,
   "metadata": {},
   "outputs": [],
   "source": [
    "# Load the index from a file\n",
    "index = faiss.read_index(\"data/index.faiss\")"
   ]
  },
  {
   "cell_type": "markdown",
   "metadata": {},
   "source": [
    "## Search index"
   ]
  },
  {
   "cell_type": "code",
   "execution_count": 6,
   "metadata": {},
   "outputs": [
    {
     "data": {
      "text/plain": [
       "array([[  100,     0, 73844, 35177]])"
      ]
     },
     "execution_count": 6,
     "metadata": {},
     "output_type": "execute_result"
    }
   ],
   "source": [
    "# Perform a search\n",
    "# the params parameter is optional and specifies which filtered items to search from\n",
    "\n",
    "\n",
    "k = 4  # number of nearest neighbors\n",
    "#either IDSelectorBatch, or IDSelectorArray for filtered search\n",
    "D, I = index.search(image_embeddings[100].reshape((1,512)).astype('float32'),\n",
    "                    k,\n",
    "                    params=faiss.SearchParameters(sel = faiss.IDSelectorBatch([0, 35177,73844, 100,1001,1230,122]))\n",
    "                    )\n",
    "I"
   ]
  },
  {
   "cell_type": "code",
   "execution_count": 10,
   "metadata": {},
   "outputs": [
    {
     "name": "stdout",
     "output_type": "stream",
     "text": [
      "[[ 0.01932739 -0.0937843  -0.07379501 ... -0.013248    0.0383434\n",
      "   0.01537755]\n",
      " [ 0.01932739 -0.0937843  -0.07379501 ... -0.013248    0.0383434\n",
      "   0.01537755]]\n",
      "(2, 512)\n"
     ]
    }
   ],
   "source": [
    "# Get embeddings of a certain item from the index\n",
    "embeddings = index.reconstruct_batch([100, 100]) # get vector at index 100\n",
    "print(embeddings)\n",
    "print(embeddings.shape)"
   ]
  },
  {
   "cell_type": "code",
   "execution_count": 20,
   "metadata": {},
   "outputs": [],
   "source": [
    "def get_embeddings_by_id(ids:list):\n",
    "    \"\"\"\n",
    "    When two or more items are chosen, their ids are passed to this function to get their embeddings\n",
    "    \n",
    "        params: ids: list of ids\n",
    "    \n",
    "        returns: embeddings of the ids\n",
    "    \"\"\"\n",
    "    query_string = \" or \".join([f\"article_id=='{id}'\" for id in ids])\n",
    "    \n",
    "    indexes = df.query(query_string).index\n",
    "    embeddings = index.reconstruct_batch(indexes)\n",
    "    \n",
    "    return embeddings"
   ]
  },
  {
   "cell_type": "code",
   "execution_count": 21,
   "metadata": {},
   "outputs": [
    {
     "data": {
      "text/plain": [
       "array([[ 0.05774637,  0.03786624,  0.03480565, ..., -0.01809942,\n",
       "        -0.00956022, -0.04715981],\n",
       "       [ 0.02655817,  0.0578466 ,  0.02785705, ...,  0.01810479,\n",
       "        -0.01383074, -0.00934319]], dtype=float32)"
      ]
     },
     "execution_count": 21,
     "metadata": {},
     "output_type": "execute_result"
    }
   ],
   "source": [
    "ids = [\"0429322001\", \"0429322007\"]\n",
    "\n",
    "get_embeddings_by_id(ids)"
   ]
  },
  {
   "cell_type": "markdown",
   "metadata": {},
   "source": [
    "## Filter items"
   ]
  },
  {
   "cell_type": "code",
   "execution_count": 22,
   "metadata": {},
   "outputs": [],
   "source": [
    "def filter_items(filters:list):\n",
    "    \"\"\"\n",
    "    params:\n",
    "        filters: list of tuples of the form (column, value)\n",
    "    \"\"\"\n",
    "    query_string = \" and \".join([f\"{filter[0]}=='{filter[1]}'\" for filter in filters])\n",
    "\n",
    "    print(query_string)\n",
    "    return df.query(query_string)"
   ]
  },
  {
   "cell_type": "code",
   "execution_count": 24,
   "metadata": {},
   "outputs": [
    {
     "name": "stdout",
     "output_type": "stream",
     "text": [
      "index_group_name=='Ladieswear' and product_group_name=='Nightwear' and color=='Black'\n"
     ]
    },
    {
     "data": {
      "text/html": [
       "<div>\n",
       "<style scoped>\n",
       "    .dataframe tbody tr th:only-of-type {\n",
       "        vertical-align: middle;\n",
       "    }\n",
       "\n",
       "    .dataframe tbody tr th {\n",
       "        vertical-align: top;\n",
       "    }\n",
       "\n",
       "    .dataframe thead th {\n",
       "        text-align: right;\n",
       "    }\n",
       "</style>\n",
       "<table border=\"1\" class=\"dataframe\">\n",
       "  <thead>\n",
       "    <tr style=\"text-align: right;\">\n",
       "      <th></th>\n",
       "      <th>article_id</th>\n",
       "      <th>prod_name</th>\n",
       "      <th>product_type_name</th>\n",
       "      <th>product_group_name</th>\n",
       "      <th>color</th>\n",
       "      <th>index_group_name</th>\n",
       "      <th>image_src</th>\n",
       "      <th>href</th>\n",
       "    </tr>\n",
       "  </thead>\n",
       "  <tbody>\n",
       "    <tr>\n",
       "      <th>2747</th>\n",
       "      <td>0429322001</td>\n",
       "      <td>Charlotte SP N-Slip Andes</td>\n",
       "      <td>Night gown</td>\n",
       "      <td>Nightwear</td>\n",
       "      <td>Black</td>\n",
       "      <td>Ladieswear</td>\n",
       "      <td>https://d11p8vtjlacpl4.cloudfront.net/kaggle-h...</td>\n",
       "      <td>https://www2.hm.com/en_gb/productpage.04293220...</td>\n",
       "    </tr>\n",
       "    <tr>\n",
       "      <th>2749</th>\n",
       "      <td>0429322007</td>\n",
       "      <td>Charlotte SP N-Slip Andes</td>\n",
       "      <td>Night gown</td>\n",
       "      <td>Nightwear</td>\n",
       "      <td>Black</td>\n",
       "      <td>Ladieswear</td>\n",
       "      <td>https://d11p8vtjlacpl4.cloudfront.net/kaggle-h...</td>\n",
       "      <td>https://www2.hm.com/en_gb/productpage.04293220...</td>\n",
       "    </tr>\n",
       "    <tr>\n",
       "      <th>6143</th>\n",
       "      <td>0503729006</td>\n",
       "      <td>India PJ (W)</td>\n",
       "      <td>Pyjama set</td>\n",
       "      <td>Nightwear</td>\n",
       "      <td>Black</td>\n",
       "      <td>Ladieswear</td>\n",
       "      <td>https://d11p8vtjlacpl4.cloudfront.net/kaggle-h...</td>\n",
       "      <td>https://www2.hm.com/en_gb/productpage.05037290...</td>\n",
       "    </tr>\n",
       "    <tr>\n",
       "      <th>6439</th>\n",
       "      <td>0506452003</td>\n",
       "      <td>Sunday SL Set</td>\n",
       "      <td>Pyjama set</td>\n",
       "      <td>Nightwear</td>\n",
       "      <td>Black</td>\n",
       "      <td>Ladieswear</td>\n",
       "      <td>https://d11p8vtjlacpl4.cloudfront.net/kaggle-h...</td>\n",
       "      <td>https://www2.hm.com/en_gb/productpage.05064520...</td>\n",
       "    </tr>\n",
       "    <tr>\n",
       "      <th>6592</th>\n",
       "      <td>0508156028</td>\n",
       "      <td>Donna N-slip Print (J)</td>\n",
       "      <td>Night gown</td>\n",
       "      <td>Nightwear</td>\n",
       "      <td>Black</td>\n",
       "      <td>Ladieswear</td>\n",
       "      <td>https://d11p8vtjlacpl4.cloudfront.net/kaggle-h...</td>\n",
       "      <td>https://www2.hm.com/en_gb/productpage.05081560...</td>\n",
       "    </tr>\n",
       "    <tr>\n",
       "      <th>...</th>\n",
       "      <td>...</td>\n",
       "      <td>...</td>\n",
       "      <td>...</td>\n",
       "      <td>...</td>\n",
       "      <td>...</td>\n",
       "      <td>...</td>\n",
       "      <td>...</td>\n",
       "      <td>...</td>\n",
       "    </tr>\n",
       "    <tr>\n",
       "      <th>91938</th>\n",
       "      <td>0854154002</td>\n",
       "      <td>NW LUNA TRS (J)</td>\n",
       "      <td>Pyjama bottom</td>\n",
       "      <td>Nightwear</td>\n",
       "      <td>Black</td>\n",
       "      <td>Ladieswear</td>\n",
       "      <td>https://d11p8vtjlacpl4.cloudfront.net/kaggle-h...</td>\n",
       "      <td>https://www2.hm.com/en_gb/productpage.08541540...</td>\n",
       "    </tr>\n",
       "    <tr>\n",
       "      <th>93365</th>\n",
       "      <td>0860527001</td>\n",
       "      <td>Emily trouser (W)</td>\n",
       "      <td>Pyjama bottom</td>\n",
       "      <td>Nightwear</td>\n",
       "      <td>Black</td>\n",
       "      <td>Ladieswear</td>\n",
       "      <td>https://d11p8vtjlacpl4.cloudfront.net/kaggle-h...</td>\n",
       "      <td>https://www2.hm.com/en_gb/productpage.08605270...</td>\n",
       "    </tr>\n",
       "    <tr>\n",
       "      <th>99428</th>\n",
       "      <td>0888331005</td>\n",
       "      <td>Bonnie SL set (J)</td>\n",
       "      <td>Pyjama set</td>\n",
       "      <td>Nightwear</td>\n",
       "      <td>Black</td>\n",
       "      <td>Ladieswear</td>\n",
       "      <td>https://d11p8vtjlacpl4.cloudfront.net/kaggle-h...</td>\n",
       "      <td>https://www2.hm.com/en_gb/productpage.08883310...</td>\n",
       "    </tr>\n",
       "    <tr>\n",
       "      <th>100033</th>\n",
       "      <td>0891877001</td>\n",
       "      <td>Sara LL PJ (J)</td>\n",
       "      <td>Pyjama set</td>\n",
       "      <td>Nightwear</td>\n",
       "      <td>Black</td>\n",
       "      <td>Ladieswear</td>\n",
       "      <td>https://d11p8vtjlacpl4.cloudfront.net/kaggle-h...</td>\n",
       "      <td>https://www2.hm.com/en_gb/productpage.08918770...</td>\n",
       "    </tr>\n",
       "    <tr>\n",
       "      <th>103348</th>\n",
       "      <td>0918171001</td>\n",
       "      <td>Miley LL Satin PJ  (W)</td>\n",
       "      <td>Pyjama set</td>\n",
       "      <td>Nightwear</td>\n",
       "      <td>Black</td>\n",
       "      <td>Ladieswear</td>\n",
       "      <td>https://d11p8vtjlacpl4.cloudfront.net/kaggle-h...</td>\n",
       "      <td>https://www2.hm.com/en_gb/productpage.09181710...</td>\n",
       "    </tr>\n",
       "  </tbody>\n",
       "</table>\n",
       "<p>86 rows × 8 columns</p>\n",
       "</div>"
      ],
      "text/plain": [
       "        article_id                  prod_name product_type_name  \\\n",
       "2747    0429322001  Charlotte SP N-Slip Andes        Night gown   \n",
       "2749    0429322007  Charlotte SP N-Slip Andes        Night gown   \n",
       "6143    0503729006               India PJ (W)        Pyjama set   \n",
       "6439    0506452003              Sunday SL Set        Pyjama set   \n",
       "6592    0508156028     Donna N-slip Print (J)        Night gown   \n",
       "...            ...                        ...               ...   \n",
       "91938   0854154002            NW LUNA TRS (J)     Pyjama bottom   \n",
       "93365   0860527001          Emily trouser (W)     Pyjama bottom   \n",
       "99428   0888331005          Bonnie SL set (J)        Pyjama set   \n",
       "100033  0891877001             Sara LL PJ (J)        Pyjama set   \n",
       "103348  0918171001     Miley LL Satin PJ  (W)        Pyjama set   \n",
       "\n",
       "       product_group_name  color index_group_name  \\\n",
       "2747            Nightwear  Black       Ladieswear   \n",
       "2749            Nightwear  Black       Ladieswear   \n",
       "6143            Nightwear  Black       Ladieswear   \n",
       "6439            Nightwear  Black       Ladieswear   \n",
       "6592            Nightwear  Black       Ladieswear   \n",
       "...                   ...    ...              ...   \n",
       "91938           Nightwear  Black       Ladieswear   \n",
       "93365           Nightwear  Black       Ladieswear   \n",
       "99428           Nightwear  Black       Ladieswear   \n",
       "100033          Nightwear  Black       Ladieswear   \n",
       "103348          Nightwear  Black       Ladieswear   \n",
       "\n",
       "                                                image_src  \\\n",
       "2747    https://d11p8vtjlacpl4.cloudfront.net/kaggle-h...   \n",
       "2749    https://d11p8vtjlacpl4.cloudfront.net/kaggle-h...   \n",
       "6143    https://d11p8vtjlacpl4.cloudfront.net/kaggle-h...   \n",
       "6439    https://d11p8vtjlacpl4.cloudfront.net/kaggle-h...   \n",
       "6592    https://d11p8vtjlacpl4.cloudfront.net/kaggle-h...   \n",
       "...                                                   ...   \n",
       "91938   https://d11p8vtjlacpl4.cloudfront.net/kaggle-h...   \n",
       "93365   https://d11p8vtjlacpl4.cloudfront.net/kaggle-h...   \n",
       "99428   https://d11p8vtjlacpl4.cloudfront.net/kaggle-h...   \n",
       "100033  https://d11p8vtjlacpl4.cloudfront.net/kaggle-h...   \n",
       "103348  https://d11p8vtjlacpl4.cloudfront.net/kaggle-h...   \n",
       "\n",
       "                                                     href  \n",
       "2747    https://www2.hm.com/en_gb/productpage.04293220...  \n",
       "2749    https://www2.hm.com/en_gb/productpage.04293220...  \n",
       "6143    https://www2.hm.com/en_gb/productpage.05037290...  \n",
       "6439    https://www2.hm.com/en_gb/productpage.05064520...  \n",
       "6592    https://www2.hm.com/en_gb/productpage.05081560...  \n",
       "...                                                   ...  \n",
       "91938   https://www2.hm.com/en_gb/productpage.08541540...  \n",
       "93365   https://www2.hm.com/en_gb/productpage.08605270...  \n",
       "99428   https://www2.hm.com/en_gb/productpage.08883310...  \n",
       "100033  https://www2.hm.com/en_gb/productpage.08918770...  \n",
       "103348  https://www2.hm.com/en_gb/productpage.09181710...  \n",
       "\n",
       "[86 rows x 8 columns]"
      ]
     },
     "execution_count": 24,
     "metadata": {},
     "output_type": "execute_result"
    }
   ],
   "source": [
    "string = [(\"index_group_name\", \"Ladieswear\"),\n",
    "          (\"product_group_name\", \"Nightwear\"),\n",
    "          (\"color\", \"Black\")\n",
    "          ]\n",
    "\n",
    "filter_items(string)"
   ]
  },
  {
   "cell_type": "markdown",
   "metadata": {},
   "source": [
    "### PLANS\n",
    "\n",
    "group product_group_name as category with product_type_name as subcategory\n",
    "\n",
    "group everything as subcategories to index_group_name\n",
    "\n",
    "\n",
    "- index_group_name:\n",
    "    - product_group_name\n",
    "- perceived_colour_master_name\n",
    "\n",
    "\n",
    "index_group_name is in header\n",
    "\n",
    "product_group_name on side\n",
    "perceived_colour_master_name on side as a slidedown\n",
    "product_type_name on each item\n",
    "\n",
    "\n",
    "\n",
    "\n"
   ]
  },
  {
   "cell_type": "code",
   "execution_count": 12,
   "metadata": {},
   "outputs": [],
   "source": [
    "category_structure = {}\n",
    "\n",
    "cateories = {}\n",
    "for i_group_name in pd.unique(df.index_group_name):\n",
    "\n",
    "    sub_cats = {}\n",
    "    for p_group_name in df.query(f\"index_group_name=='{i_group_name}'\")['product_group_name'].unique():\n",
    "        sub_cats.update({p_group_name : df.query(f\"product_group_name=='{p_group_name}'\")['product_type_name'].unique()})\n",
    "    cateories.update({i_group_name : list(sub_cats)})\n",
    "\n",
    "category_structure.update({'Categories': cateories})\n"
   ]
  },
  {
   "cell_type": "code",
   "execution_count": 15,
   "metadata": {},
   "outputs": [
    {
     "name": "stdout",
     "output_type": "stream",
     "text": [
      "{\n",
      "    \"Categories\": {\n",
      "        \"Ladieswear\": [\n",
      "            \"Garment Upper body\",\n",
      "            \"Underwear\",\n",
      "            \"Socks & Tights\",\n",
      "            \"Garment Lower body\",\n",
      "            \"Accessories\",\n",
      "            \"Items\",\n",
      "            \"Swimwear\",\n",
      "            \"Garment Full body\",\n",
      "            \"Nightwear\",\n",
      "            \"Shoes\",\n",
      "            \"Furniture\"\n",
      "        ],\n",
      "        \"Baby/Children\": [\n",
      "            \"Garment Upper body\",\n",
      "            \"Nightwear\",\n",
      "            \"Garment Lower body\",\n",
      "            \"Underwear\",\n",
      "            \"Garment Full body\",\n",
      "            \"Socks & Tights\",\n",
      "            \"Accessories\",\n",
      "            \"Underwear/nightwear\",\n",
      "            \"Swimwear\",\n",
      "            \"Shoes\",\n",
      "            \"Cosmetic\"\n",
      "        ],\n",
      "        \"Menswear\": [\n",
      "            \"Garment Lower body\",\n",
      "            \"Garment Upper body\",\n",
      "            \"Underwear\",\n",
      "            \"Accessories\",\n",
      "            \"Shoes\",\n",
      "            \"Socks & Tights\",\n",
      "            \"Swimwear\",\n",
      "            \"Nightwear\",\n",
      "            \"Garment Full body\"\n",
      "        ],\n",
      "        \"Sport\": [\n",
      "            \"Garment Upper body\",\n",
      "            \"Garment Lower body\",\n",
      "            \"Accessories\",\n",
      "            \"Socks & Tights\",\n",
      "            \"Underwear\",\n",
      "            \"Swimwear\",\n",
      "            \"Garment Full body\",\n",
      "            \"Shoes\"\n",
      "        ],\n",
      "        \"Divided\": [\n",
      "            \"Socks & Tights\",\n",
      "            \"Shoes\",\n",
      "            \"Garment Lower body\",\n",
      "            \"Garment Upper body\",\n",
      "            \"Garment Full body\",\n",
      "            \"Accessories\",\n",
      "            \"Underwear\",\n",
      "            \"Swimwear\"\n",
      "        ]\n",
      "    }\n",
      "}\n"
     ]
    }
   ],
   "source": [
    "import json\n",
    "\n",
    "json_string = json.dumps(category_structure, indent=4 )  \n",
    "print(json_string)"
   ]
  },
  {
   "cell_type": "code",
   "execution_count": 16,
   "metadata": {},
   "outputs": [],
   "source": [
    "with open('categories.json', 'w') as json_file:\n",
    "    json.dump(category_structure, json_file)"
   ]
  },
  {
   "cell_type": "code",
   "execution_count": null,
   "metadata": {},
   "outputs": [],
   "source": []
  }
 ],
 "metadata": {
  "kernelspec": {
   "display_name": "recommender",
   "language": "python",
   "name": "python3"
  },
  "language_info": {
   "codemirror_mode": {
    "name": "ipython",
    "version": 3
   },
   "file_extension": ".py",
   "mimetype": "text/x-python",
   "name": "python",
   "nbconvert_exporter": "python",
   "pygments_lexer": "ipython3",
   "version": "3.9.13"
  }
 },
 "nbformat": 4,
 "nbformat_minor": 2
}
